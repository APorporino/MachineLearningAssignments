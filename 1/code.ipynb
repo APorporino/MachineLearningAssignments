{
  "nbformat": 4,
  "nbformat_minor": 0,
  "metadata": {
    "colab": {
      "name": "COMP551-A1-FINAL.ipynb",
      "provenance": [],
      "collapsed_sections": []
    },
    "kernelspec": {
      "display_name": "Python 3",
      "language": "python",
      "name": "python3"
    },
    "language_info": {
      "codemirror_mode": {
        "name": "ipython",
        "version": 3
      },
      "file_extension": ".py",
      "mimetype": "text/x-python",
      "name": "python",
      "nbconvert_exporter": "python",
      "pygments_lexer": "ipython3",
      "version": "3.7.7"
    }
  },
  "cells": [
    {
      "cell_type": "code",
      "metadata": {
        "id": "PhFUkHLFPLlM"
      },
      "source": [
        "import numpy as np\n",
        "import pandas as pd\n",
        "from sklearn import neighbors, tree\n",
        "from sklearn.metrics import confusion_matrix\n",
        "import matplotlib.pyplot as plt\n",
        "import matplotlib.ticker as mtick\n",
        "from itertools import product\n",
        "from sklearn.preprocessing import StandardScaler, MinMaxScaler, RobustScaler"
      ],
      "execution_count": null,
      "outputs": []
    },
    {
      "cell_type": "code",
      "metadata": {
        "id": "9yp5KVu4PWx_"
      },
      "source": [
        "\"\"\"\n",
        "This is a string containing data set attributes. To be used to make a dictionary of column names with valid values.\n",
        "\"\"\"\n",
        "\n",
        "adult_attributes = \"\"\"age: continuous.\n",
        "workclass: Private, Self-emp-not-inc, Self-emp-inc, Federal-gov, Local-gov, State-gov, Without-pay, Never-worked.\n",
        "fnlwgt: continuous.\n",
        "education: Bachelors, Some-college, 11th, HS-grad, Prof-school, Assoc-acdm, Assoc-voc, 9th, 7th-8th, 12th, Masters, 1st-4th, 10th, Doctorate, 5th-6th, Preschool.\n",
        "education-num: continuous.\n",
        "marital-status: Married-civ-spouse, Divorced, Never-married, Separated, Widowed, Married-spouse-absent, Married-AF-spouse.\n",
        "occupation: Tech-support, Craft-repair, Other-service, Sales, Exec-managerial, Prof-specialty, Handlers-cleaners, Machine-op-inspct, Adm-clerical, Farming-fishing, Transport-moving, Priv-house-serv, Protective-serv, Armed-Forces.\n",
        "relationship: Wife, Own-child, Husband, Not-in-family, Other-relative, Unmarried.\n",
        "race: White, Asian-Pac-Islander, Amer-Indian-Eskimo, Other, Black.\n",
        "sex: Female, Male.\n",
        "capital-gain: continuous.\n",
        "capital-loss: continuous.\n",
        "hours-per-week: continuous.\n",
        "native-country: United-States, Cambodia, England, Puerto-Rico, Canada, Germany, Outlying-US(Guam-USVI-etc), India, Japan, Greece, South, China, Cuba, Iran, Honduras, Philippines, Italy, Poland, Jamaica, Vietnam, Mexico, Portugal, Ireland, France, Dominican-Republic, Laos, Ecuador, Taiwan, Haiti, Columbia, Hungary, Guatemala, Nicaragua, Scotland, Thailand, Yugoslavia, El-Salvador, Trinadad&Tobago, Peru, Hong, Holand-Netherlands.\n",
        "target: >50K, <=50K\"\"\"\n",
        "\n",
        "news_attributes = \"\"\"n_tokens_title:                continuous\n",
        "n_tokens_content:              continuous\n",
        "num_hrefs:                     continuous\n",
        "num_self_hrefs:                continuous\n",
        "num_imgs:                      continuous\n",
        "num_videos:                    continuous\n",
        "average_token_length:          continuous\n",
        "data_channel_is_lifestyle:     continuous\n",
        "data_channel_is_entertainment: continuous\n",
        "data_channel_is_bus:           continuous\n",
        "data_channel_is_socmed:        continuous\n",
        "data_channel_is_tech:          continuous\n",
        "data_channel_is_world:         continuous\n",
        "weekday_is_monday:             continuous\n",
        "weekday_is_tuesday:            continuous\n",
        "weekday_is_wednesday:          continuous\n",
        "weekday_is_thursday:           continuous\n",
        "weekday_is_friday:             continuous\n",
        "weekday_is_saturday:           continuous\n",
        "weekday_is_sunday:             continuous\n",
        "is_weekend:                    continuous\n",
        "global_rate_positive_words:    continuous\n",
        "global_rate_negative_words:    continuous\n",
        "shares:                        continuous\"\"\"\n"
      ],
      "execution_count": null,
      "outputs": []
    },
    {
      "cell_type": "code",
      "metadata": {
        "id": "ndDMYFkZRKx4"
      },
      "source": [
        "pd.set_option('display.max_columns', 8)"
      ],
      "execution_count": null,
      "outputs": []
    },
    {
      "cell_type": "code",
      "metadata": {
        "colab": {
          "base_uri": "https://localhost:8080/"
        },
        "id": "WD-wEbDoROES",
        "outputId": "71b8b6e1-f85d-4cdd-ca0c-ec5b4ee1b313"
      },
      "source": [
        "def get_features(text):\n",
        "    \"\"\"\n",
        "    Given a string in the form of a dictionary representing featue names and \n",
        "    values, this function will return:\n",
        "    - a list of column names (keys) \n",
        "    - a dictionary where the keys are the column names and values are the \n",
        "    list of valid categorical values if it is a categorical feature or simply \n",
        "    the string \"continuous\" if it is a numerical feature.\n",
        "\n",
        "    \"\"\"\n",
        "    valid_features = dict()\n",
        "    columns = []\n",
        "    for line in text.split('\\n'):\n",
        "        col, val = line.split(':')\n",
        "        columns.append(col)\n",
        "        col, val = col.strip(), val.strip('. ')\n",
        "        if 'continuous' in val:\n",
        "            valid_features[col] = val\n",
        "        else:\n",
        "            val = val.split(',')\n",
        "            val = [v.strip() for v in val]\n",
        "            valid_features[col] = val\n",
        "    return columns, valid_features\n",
        "\n",
        "\n",
        "adult_columns, adult_features = get_features(adult_attributes)\n",
        "news_columns, news_features = get_features(news_attributes)\n",
        "\n",
        "print(\"Adult columns: \", adult_columns)\n",
        "print(\"Number of columns (features) - adult: \", len(adult_columns))\n",
        "print(\"Adult dict: \", adult_features, \"\\n\")\n",
        "print(\"News columns: \", news_columns)\n",
        "print(\"Number of columns (features) - news: \", len(news_columns))\n",
        "print(\"News dict: \", news_features)\n"
      ],
      "execution_count": null,
      "outputs": [
        {
          "output_type": "stream",
          "name": "stdout",
          "text": [
            "Adult columns:  ['age', 'workclass', 'fnlwgt', 'education', 'education-num', 'marital-status', 'occupation', 'relationship', 'race', 'sex', 'capital-gain', 'capital-loss', 'hours-per-week', 'native-country', 'target']\n",
            "Number of columns (features) - adult:  15\n",
            "Adult dict:  {'age': 'continuous', 'workclass': ['Private', 'Self-emp-not-inc', 'Self-emp-inc', 'Federal-gov', 'Local-gov', 'State-gov', 'Without-pay', 'Never-worked'], 'fnlwgt': 'continuous', 'education': ['Bachelors', 'Some-college', '11th', 'HS-grad', 'Prof-school', 'Assoc-acdm', 'Assoc-voc', '9th', '7th-8th', '12th', 'Masters', '1st-4th', '10th', 'Doctorate', '5th-6th', 'Preschool'], 'education-num': 'continuous', 'marital-status': ['Married-civ-spouse', 'Divorced', 'Never-married', 'Separated', 'Widowed', 'Married-spouse-absent', 'Married-AF-spouse'], 'occupation': ['Tech-support', 'Craft-repair', 'Other-service', 'Sales', 'Exec-managerial', 'Prof-specialty', 'Handlers-cleaners', 'Machine-op-inspct', 'Adm-clerical', 'Farming-fishing', 'Transport-moving', 'Priv-house-serv', 'Protective-serv', 'Armed-Forces'], 'relationship': ['Wife', 'Own-child', 'Husband', 'Not-in-family', 'Other-relative', 'Unmarried'], 'race': ['White', 'Asian-Pac-Islander', 'Amer-Indian-Eskimo', 'Other', 'Black'], 'sex': ['Female', 'Male'], 'capital-gain': 'continuous', 'capital-loss': 'continuous', 'hours-per-week': 'continuous', 'native-country': ['United-States', 'Cambodia', 'England', 'Puerto-Rico', 'Canada', 'Germany', 'Outlying-US(Guam-USVI-etc)', 'India', 'Japan', 'Greece', 'South', 'China', 'Cuba', 'Iran', 'Honduras', 'Philippines', 'Italy', 'Poland', 'Jamaica', 'Vietnam', 'Mexico', 'Portugal', 'Ireland', 'France', 'Dominican-Republic', 'Laos', 'Ecuador', 'Taiwan', 'Haiti', 'Columbia', 'Hungary', 'Guatemala', 'Nicaragua', 'Scotland', 'Thailand', 'Yugoslavia', 'El-Salvador', 'Trinadad&Tobago', 'Peru', 'Hong', 'Holand-Netherlands'], 'target': ['>50K', '<=50K']} \n",
            "\n",
            "News columns:  ['n_tokens_title', 'n_tokens_content', 'num_hrefs', 'num_self_hrefs', 'num_imgs', 'num_videos', 'average_token_length', 'data_channel_is_lifestyle', 'data_channel_is_entertainment', 'data_channel_is_bus', 'data_channel_is_socmed', 'data_channel_is_tech', 'data_channel_is_world', 'weekday_is_monday', 'weekday_is_tuesday', 'weekday_is_wednesday', 'weekday_is_thursday', 'weekday_is_friday', 'weekday_is_saturday', 'weekday_is_sunday', 'is_weekend', 'global_rate_positive_words', 'global_rate_negative_words', 'shares']\n",
            "Number of columns (features) - news:  24\n",
            "News dict:  {'n_tokens_title': 'continuous', 'n_tokens_content': 'continuous', 'num_hrefs': 'continuous', 'num_self_hrefs': 'continuous', 'num_imgs': 'continuous', 'num_videos': 'continuous', 'average_token_length': 'continuous', 'data_channel_is_lifestyle': 'continuous', 'data_channel_is_entertainment': 'continuous', 'data_channel_is_bus': 'continuous', 'data_channel_is_socmed': 'continuous', 'data_channel_is_tech': 'continuous', 'data_channel_is_world': 'continuous', 'weekday_is_monday': 'continuous', 'weekday_is_tuesday': 'continuous', 'weekday_is_wednesday': 'continuous', 'weekday_is_thursday': 'continuous', 'weekday_is_friday': 'continuous', 'weekday_is_saturday': 'continuous', 'weekday_is_sunday': 'continuous', 'is_weekend': 'continuous', 'global_rate_positive_words': 'continuous', 'global_rate_negative_words': 'continuous', 'shares': 'continuous'}\n"
          ]
        }
      ]
    },
    {
      "cell_type": "markdown",
      "metadata": {
        "id": "0vFo_SEGTZxZ"
      },
      "source": [
        "The following block of code will load the datasets and prepocess them slightly. "
      ]
    },
    {
      "cell_type": "code",
      "metadata": {
        "id": "U0qFN9XZS0O3"
      },
      "source": [
        "# Load The Datasets\n",
        "adult_df = pd.read_csv(\"./adult.data\",names = \n",
        "                       adult_columns, index_col = False, skipinitialspace=True)\n",
        "\n",
        "news_df = pd.read_csv(\"./OnlineNewsPopularity.csv\", \n",
        "                      index_col = False, skipinitialspace=True)\n",
        "\n",
        "# Only keep certain news article columns\n",
        "news_df = news_df[news_columns]\n",
        "\n",
        "# Will set the target value of news dataset to binary value. This will allow us\n",
        "# to perform classification instead of regression\n",
        "news_df['shares'] = news_df['shares'].apply(lambda x: 1 if  int(x) > 1400 else 0)\n",
        "\n"
      ],
      "execution_count": null,
      "outputs": []
    },
    {
      "cell_type": "code",
      "metadata": {
        "id": "jyeazRIvWFOL"
      },
      "source": [
        "def remove_invalid_data(df, valid_features, max_missing, impute=True):\n",
        "    \"\"\"\n",
        "    This function will remove all invalid data.\n",
        "    Invalid data includes columns that are not expected, categorical values\n",
        "    that are not expected, numeric entries that are not numbers as well as any\n",
        "    random entry such as \"?\".\n",
        "\n",
        "    Params:\n",
        "    _______\n",
        "\n",
        "    df: pandas DataFrame - data\n",
        "    valid_features: dict - Key is column name and value is acceptable entries.\n",
        "    max_missing: int - the maximum number of missing cells in a row before the \n",
        "                        data point is discarded\n",
        "    impute: boolean - if set to true, the rows with missing data < max_missing\n",
        "                      will be filled with the mean value (for numeric) and mode\n",
        "                      (for categorical) of all the other data points.\n",
        "\n",
        "    Returns:\n",
        "    _______\n",
        "\n",
        "    df: pandas DataFrame - new data frame with invalid entires removed and \n",
        "                          potentially some entries with imputed cells.\n",
        "    \"\"\"\n",
        "\n",
        "    for col in df.columns.values:\n",
        "        try:\n",
        "            if valid_features[col] != 'continuous':\n",
        "                # if value is not valid replace with NaN\n",
        "                df.loc[~df[col].isin(valid_features[col]), col] = np.NaN\n",
        "            else:\n",
        "                # drops non numeric values\n",
        "                df[col] = pd.to_numeric(df[col], errors='coerce')\n",
        "        except KeyError:\n",
        "            df = df.drop(col, axis=1)\n",
        "\n",
        "    # drop instances with too many invalid/missing values\n",
        "    df = df.drop(df[df.isnull().sum(axis=1) > max_missing].index)\n",
        "    \n",
        "    # if impute true: remove instances with >max_missing data entries, for the ones with <=max_missing, impute missing columns\n",
        "    # by replacing missings by feature median for continuous vars, and mode for categorical\n",
        "    if impute and max_missing > 0:\n",
        "        for col in df.columns.values:\n",
        "            if (valid_features[col] != 'continuous'):\n",
        "                df[col].fillna(df.mode()[col], inplace=True)\n",
        "                # print(df[col].mode())\n",
        "            else:\n",
        "                df[col].fillna(df.mean().loc[col], inplace=True)\n",
        "    return df\n",
        "\n",
        "adult_df = remove_invalid_data(adult_df, adult_features, 0)\n",
        "# Drop the 'education' column\n",
        "adult_columns = [col for col in adult_columns if col != 'education']\n",
        "adult_features.pop('education')\n",
        "adult_df = adult_df[adult_columns]\n",
        "\n",
        "news_df = remove_invalid_data(news_df, news_features, 0)\n",
        "\n",
        "# Will set the target value of adult dataset to binary value.\n",
        "adult_df['target'] = adult_df['target'].map({'>50K': 1, '<=50K': 0})\n",
        "\n",
        "# We will also turn all categorical values in the adult dataset to binary values\n",
        "# using One Hot Encoding\n",
        "adult_df = pd.get_dummies(adult_df, \n",
        "                          columns=[dr for dr in adult_features.keys() \n",
        "                          if adult_features[dr] != 'continuous' and dr != 'target'])\n",
        "\n",
        "# put target as last column (it was moved when creating the 1-hot encodings)\n",
        "target_series = adult_df['target']\n",
        "adult_df.drop(labels=['target'], axis=1, inplace=True)\n",
        "adult_df.insert(loc=len(adult_df.columns), column='target', value=target_series)\n",
        "\n",
        "# put target as last column (it was moved when removing invalid data)\n",
        "target_series = news_df['shares']\n",
        "news_df.drop(labels=['shares'], axis=1, inplace=True)\n",
        "news_df.insert(loc=len(news_df.columns), column='target', value=target_series)\n",
        "\n",
        "# Change news features \"share\" value to not continuous\n",
        "news_features[\"shares\"] = \"not contin\" \n",
        "\n",
        "print(\"ADULT Dataset\")\n",
        "print(adult_df.head())\n",
        "print(\"News Dataset\")\n",
        "print(news_df.head())"
      ],
      "execution_count": null,
      "outputs": []
    },
    {
      "cell_type": "markdown",
      "metadata": {
        "id": "vQsmJl98deEc"
      },
      "source": [
        "This will load the adult test dataset"
      ]
    },
    {
      "cell_type": "code",
      "metadata": {
        "id": "mwdSzYKcdeEc"
      },
      "source": [
        "adult_test = pd.read_csv(\"./adult.test\",names =\n",
        "                       adult_columns, index_col = False, skipinitialspace=True)\n",
        "adult_test['target'] = adult_test['target'].map({'>50K.': '>50K', '<=50K.': '<=50K'})\n",
        "adult_test = remove_invalid_data(adult_test, adult_features, 0)\n",
        "\n",
        "# Test data set has a period at the end!\n",
        "\n",
        "adult_test['target'] = adult_test['target'].map({'>50K': 1, '<=50K': 0})\n",
        "\n",
        "# # One hot encode all variables\n",
        "adult_test = pd.get_dummies(adult_test,\n",
        "                          columns=[dr for dr in adult_features.keys()\n",
        "                          if adult_features[dr] != 'continuous' and dr != 'target'])\n",
        "\n",
        "# # Put target column last again\n",
        "target_series = adult_test['target']\n",
        "adult_test.drop(labels=['target'], axis=1, inplace=True)\n",
        "adult_test.insert(loc=len(adult_test.columns), column='target', value=target_series)\n",
        "\n",
        "print(adult_test)"
      ],
      "execution_count": null,
      "outputs": []
    },
    {
      "cell_type": "code",
      "metadata": {
        "id": "AuFn73kDGPtb"
      },
      "source": [
        "# Split test and training for OnlineNewsPopularity dataset\n",
        "# 10% for test and 90% for training/validation\n",
        "\n",
        "news_df_testing_set = news_df.iloc[0:int(len(news_df.index)*(.1))]\n",
        "news_df = news_df.iloc[int(len(news_df.index)*(.1)):]\n",
        "\n",
        "print(len(news_df_testing_set.index))\n",
        "print(len(news_df.index))\n"
      ],
      "execution_count": null,
      "outputs": []
    },
    {
      "cell_type": "markdown",
      "metadata": {
        "id": "0TRp1xoJZHZl"
      },
      "source": [
        "The following block of code is our implementation of n-fold cross validation."
      ]
    },
    {
      "cell_type": "code",
      "metadata": {
        "id": "4WObzbJPY-JX"
      },
      "source": [
        "def compute_cross_val(df, num_folds, models):\n",
        "    \"\"\"\n",
        "    This function will run n-fold cross validation.\n",
        "\n",
        "    Params:\n",
        "    ______\n",
        "\n",
        "    df: pandas DataFrame - data\n",
        "    num_folds: int - number of folds to split data into for cross validation\n",
        "    models: list - List of models to run each training and prediction on.\n",
        "\n",
        "\n",
        "    Returns:\n",
        "    ______\n",
        "\n",
        "    Returns a list with 2 elements:\n",
        "      val_accuracy: Numpy matrix where rows are the models and columns are \n",
        "                    different folds. Each entry represents the accuracy of \n",
        "                    prediction on the validation set.\n",
        "      train_accuracy: Numpy matrix where rows are the models and columns are \n",
        "                    different folds. Each entry represents the accuracy of \n",
        "                    prediction on the training set.\n",
        "    \"\"\"\n",
        "    val_accuracy = np.zeros(shape=(len(models), num_folds))\n",
        "    train_accuracy = np.zeros(shape=(len(models), num_folds))\n",
        "\n",
        "    num_instances = len(df.index)\n",
        "    fold_size = num_instances // num_folds\n",
        "\n",
        "    last_idx = 0    # last row not included in previous validation partition\n",
        "    fold_num = 1    # current iteration\n",
        "\n",
        "    while last_idx <= num_instances - 1 and fold_num <= num_folds:\n",
        "\n",
        "        # split dataset\n",
        "        val_data = df.iloc[last_idx:last_idx + fold_size, :]\n",
        "        # put all other rows in the training dataset\n",
        "        train_data = pd.concat([df.iloc[0:last_idx, :], df.iloc[last_idx + fold_size:, :]], axis=0)\n",
        "\n",
        "        # split features from labels\n",
        "        val_x, val_y = val_data.iloc[:, :-1], val_data.iloc[:, -1]\n",
        "        # print(f'val_x: {val_x.shape}, val_y: {val_y.shape}')\n",
        "        train_x, train_y = train_data.iloc[:, :-1], train_data.iloc[:, -1]\n",
        "        # print(f'train_x: {train_x.shape}, train_y: {train_y.shape}')\n",
        "\n",
        "        # compute accuracy for different values of k\n",
        "        for k in np.arange(1, len(models) + 1):\n",
        "            model = models[k-1]\n",
        "\n",
        "            # accuracy on validation set\n",
        "            model.fit(train_x, train_y)     # overwrites all previously fitted parameters\n",
        "            val_predict = model.predict(val_x)\n",
        "            val_accuracy[k - 1, fold_num - 1] = (val_predict == val_y).sum() / len(val_y.index)\n",
        "            # accuracy on training set\n",
        "            train_predict = model.predict(train_x)\n",
        "            train_accuracy[k - 1, fold_num - 1] = (train_predict == train_y).sum() / len(train_y.index)\n",
        "\n",
        "        last_idx += fold_size\n",
        "        fold_num += 1\n",
        "\n",
        "    return val_accuracy, train_accuracy\n",
        "\n",
        "\n",
        "def cross_val_stats(means):\n",
        "    \"\"\"\n",
        "    This function will return the mean and standard deviation of all values in\n",
        "    each row of the given matrix.\n",
        "    \"\"\"\n",
        "    # get row means and std devs\n",
        "    means_for_k = np.mean(means, axis=1)\n",
        "    stds_for_k = np.std(means, axis=1)\n",
        "    return means_for_k, stds_for_k"
      ],
      "execution_count": null,
      "outputs": []
    },
    {
      "cell_type": "code",
      "metadata": {
        "id": "9nr6CAjnZUm0"
      },
      "source": [
        "def curate_dataset(ds, scale_option, features):\n",
        "    \"\"\"\n",
        "    This function will scale the dataset based on the scaling option passed.\n",
        "    \"\"\"\n",
        "    if scale_option == 'default':\n",
        "        return ds\n",
        "    elif scale_option == 'normalize':\n",
        "        scalerStandard = StandardScaler()\n",
        "        df_model = ds.copy()\n",
        "\n",
        "        for (key, value) in features.items():\n",
        "            if value == \"continuous\":\n",
        "                df_model[key] = scalerStandard.fit_transform(df_model[key].__array__().reshape(-1,1))\n",
        "\n",
        "        return df_model\n",
        "    elif scale_option == 'minMax':\n",
        "\n",
        "        scalerMinMax = MinMaxScaler()\n",
        "        df_model = ds.copy()\n",
        "        # Rescaling features age, trestbps, chol, thalach, oldpeak.\n",
        "\n",
        "        for (key, value) in features.items():\n",
        "            if value == \"continuous\":\n",
        "                df_model[key] = scalerMinMax.fit_transform(df_model[key].__array__().reshape(-1,1))\n",
        "\n",
        "        return df_model\n",
        "    else:\n",
        "        scalerRobust = RobustScaler()\n",
        "        df_model = ds.copy()\n",
        "        # Rescaling features age, trestbps, chol, thalach, oldpeak.\n",
        "\n",
        "        for (key, value) in features.items():\n",
        "            if value == \"continuous\":\n",
        "                df_model[key] = scalerRobust.fit_transform(df_model[key].__array__().reshape(-1,1))\n",
        "\n",
        "        return df_model\n"
      ],
      "execution_count": null,
      "outputs": []
    },
    {
      "cell_type": "markdown",
      "metadata": {
        "id": "PPmJbJcFzx0E"
      },
      "source": [
        "## The following block of code is for **EXPERIMENT 1** and will find the best hyperparameters for **KNN algorithm**.\n",
        "\n",
        "*The hyperparameters being examined are k (number of neighbors to consider), p (using the euclidean or manhattan distance), and scaling function for numeric values (standard, min-max and robust)*\n",
        "\n",
        "Goal: Train on each possible combination, boxplots of 5 models with best validation set accuracy."
      ]
    },
    {
      "cell_type": "code",
      "metadata": {
        "id": "IoOeOQROy6tB"
      },
      "source": [
        "def knn_experiment_1(data, features_dict, show_results, scaling_options=['default', 'normalize', 'minMax', 'robust']):\n",
        "    \"\"\"\n",
        "    This function will run the 1st experiment for KNN given a dataset. It will loop through \n",
        "    all possible k values, p values (distance algorithm) and scaling options passed and print/return the results.\n",
        "    \"\"\"\n",
        "    k_values = [k for k in range(1, 14)]\n",
        "    p_values = [1,2]  # distance metrics\n",
        "    # scaling_options = ['default', 'normalize', 'minMax', 'robust']\n",
        "\n",
        "    hyperparams = [(k, p) for k, p in product(k_values, p_values)]\n",
        "\n",
        "\n",
        "    all_model_means = []\n",
        "    all_model_train_means = []\n",
        "    for option in scaling_options:\n",
        "        # get accuracy for each combination. compute_cross_val does it for multiple models at the\n",
        "        # same time but it only works on 1 same dataset. so we do it in multiple steps here\n",
        "        models = [neighbors.KNeighborsClassifier(n_neighbors=k, p=p) for k, p in hyperparams]\n",
        "        print(\"Running KNN cross validation for k, p parameters combination for: \", option, \" scaling\")\n",
        "        means_val, means_train = compute_cross_val(curate_dataset(data, option, features_dict), num_folds=5, models=models)\n",
        "        all_model_means += [means_val]\n",
        "        all_model_train_means += [means_train]\n",
        "\n",
        "    all_model_means = np.concatenate(all_model_means, axis=0)\n",
        "    means, stds = cross_val_stats(all_model_means)\n",
        "\n",
        "    all_model_train_means = np.concatenate(all_model_train_means, axis=0)\n",
        "    means_train, stds_train = cross_val_stats(all_model_train_means)\n",
        "\n",
        "  \n",
        "    if show_results:\n",
        "        print(\"\\nVALIDATION SET RESULTS\")\n",
        "\n",
        "    all_params = []\n",
        "    for option in scaling_options:\n",
        "        all_params += [(option, k, p) for k, p in hyperparams]\n",
        "\n",
        "    # if show_results:\n",
        "    #   for i, (option, k, p) in enumerate(all_params):\n",
        "    #     print(f'{means[i]} ± {stds[i]}\\t for parameters ds:{option} k={k} p={p}')\n",
        "\n",
        "    # choose top 5 models - for validation set\n",
        "    all_params = [f'K = {k}\\nMetric = {p}\\nScale = {config}' for config, k, p in all_params]\n",
        "    results_df = pd.DataFrame(np.column_stack((means, stds)), columns=['mean', 'std'], index=all_params)\n",
        "    top5 = results_df.nlargest(10, 'mean')\n",
        "\n",
        "    data = top5['mean']\n",
        "    names = top5.index\n",
        "    stds = top5['std']\n",
        "\n",
        "    if show_results:\n",
        "        fig, ax = plt.subplots(figsize=(20,5))\n",
        "\n",
        "        # set labels\n",
        "\n",
        "        ax.set_ylim(max(0, data.min() - 2 * stds.max()), min(data.max() + 2 * stds.max(), 1))\n",
        "        ax.yaxis.set_major_formatter(mtick.PercentFormatter(xmax=1, decimals=2))\n",
        "        ax.set_ylabel(\"Accuracy\")\n",
        "\n",
        "        # plot\n",
        "        plt.suptitle(\"5-fold cross-validation accuracy on 5 best-performing models on validation set\")\n",
        "        ax.errorbar(names, data, yerr=stds, capsize=5, fmt='bo', linestyle='')\n",
        "        plt.show()\n",
        "\n",
        "    if show_results:\n",
        "        print(\"\\nTRAINING SET RESULTS\")\n",
        "    all_params = []\n",
        "    \n",
        "    for option in scaling_options:\n",
        "        all_params += [(option, k, p) for k, p in hyperparams]\n",
        "\n",
        "  # if show_results:\n",
        "  #   for i, (option, k, p) in enumerate(all_params):\n",
        "  #     print(f'{means_train[i]} ± {stds_train[i]}\\t for parameters ds:{option} k={k} p={p}')\n",
        "\n",
        "    # choose top 5 models - for training set\n",
        "    all_params = [f'K = {k}\\nMetric = {p}\\nScale = {config}' for config, k, p in all_params]\n",
        "    results_df = pd.DataFrame(np.column_stack((means_train, stds_train)), columns=['mean', 'std'], index=all_params)\n",
        "    top10 = results_df.nlargest(10, 'mean')\n",
        "\n",
        "    data_train = top10['mean']\n",
        "    names_train = top10.index\n",
        "    stds_train = top10['std']\n",
        "\n",
        "    if show_results:\n",
        "        fig, ax = plt.subplots(figsize=(20,5))\n",
        "\n",
        "        # set labels\n",
        "\n",
        "        ax.set_ylim(max(0, data_train.min() - 2 * stds_train.max()), min(data_train.max() + 2 * stds_train.max(), 1))\n",
        "        ax.yaxis.set_major_formatter(mtick.PercentFormatter(xmax=1, decimals=2))\n",
        "        ax.set_ylabel(\"Accuracy\")\n",
        "\n",
        "        # plot\n",
        "        plt.suptitle(\"5-fold cross-validation accuracy on 10 best-performing models on training set\")\n",
        "        ax.errorbar(names_train, data_train, yerr=stds_train, capsize=10, fmt='bo', linestyle='')\n",
        "        plt.show()\n",
        "  \n",
        "    if show_results:\n",
        "        return None\n",
        "    else:\n",
        "        return [data,names,stds], [data_train, names_train, stds_train]"
      ],
      "execution_count": null,
      "outputs": []
    },
    {
      "cell_type": "markdown",
      "metadata": {
        "id": "UpV48EVwfXL1"
      },
      "source": [
        "**EXPERIMENT 1** for **KNN algorithm** for the **ADULT dataset**.\n"
      ]
    },
    {
      "cell_type": "code",
      "metadata": {
        "id": "tIVQSHM40In8",
        "outputId": "880d60f2-4a14-4e8c-cfa4-aca7df99f465"
      },
      "source": [
        "knn_experiment_1(adult_df, adult_features, True, ['normalize','minMax','robust'])"
      ],
      "execution_count": null,
      "outputs": [
        {
          "name": "stdout",
          "output_type": "stream",
          "text": [
            "Running KNN cross validation for k, p parameters combination for:  normalize  scaling\n",
            "Running KNN cross validation for k, p parameters combination for:  minMax  scaling\n",
            "Running KNN cross validation for k, p parameters combination for:  robust  scaling\n",
            "\n",
            "VALIDATION SET RESULTS\n"
          ]
        },
        {
          "data": {
            "image/png": "[encoded data removed]",
            "text/plain": [
              "<Figure size 1440x360 with 1 Axes>"
            ]
          },
          "metadata": {
            "needs_background": "light"
          },
          "output_type": "display_data"
        },
        {
          "name": "stdout",
          "output_type": "stream",
          "text": [
            "\n",
            "TRAINING SET RESULTS\n"
          ]
        },
        {
          "data": {
            "image/png": "[encoded data removed]",
            "text/plain": [
              "<Figure size 1440x360 with 1 Axes>"
            ]
          },
          "metadata": {
            "needs_background": "light"
          },
          "output_type": "display_data"
        }
      ]
    },
    {
      "cell_type": "markdown",
      "metadata": {
        "id": "uHZZNmdA487Z"
      },
      "source": [
        "**EXPERIMENT 1** for **KNN algorithm** for our second **NEWS dataset**.\n"
      ]
    },
    {
      "cell_type": "code",
      "metadata": {
        "colab": {
          "base_uri": "https://localhost:8080/",
          "height": 826
        },
        "id": "eVtW0226zneG",
        "outputId": "0247d644-e0b6-4ff6-fb4e-b7d9eb44273a"
      },
      "source": [
        "knn_experiment_1(news_df, news_features, True, ['normalize','minMax','robust'])"
      ],
      "execution_count": null,
      "outputs": [
        {
          "name": "stdout",
          "output_type": "stream",
          "text": [
            "Running KNN cross validation for k, p parameters combination for:  normalize  scaling\n",
            "\n",
            "VALIDATION SET RESULTS\n"
          ]
        },
        {
          "data": {
            "image/png": "[encoded data removed]",
            "text/plain": [
              "<Figure size 720x360 with 1 Axes>"
            ]
          },
          "metadata": {
            "needs_background": "light"
          },
          "output_type": "display_data"
        },
        {
          "name": "stdout",
          "output_type": "stream",
          "text": [
            "\n",
            "TRAINING SET RESULTS\n"
          ]
        },
        {
          "data": {
            "image/png": "[encoded data removed]",
            "text/plain": [
              "<Figure size 720x360 with 1 Axes>"
            ]
          },
          "metadata": {
            "needs_background": "light"
          },
          "output_type": "display_data"
        }
      ]
    },
    {
      "cell_type": "markdown",
      "metadata": {
        "id": "St7ad4hRwdqh"
      },
      "source": [
        "## The following block of code is for **EXPERIMENT 1** and will find the best hyperparameters for **Decision Tree algorithm**.\n",
        "\n",
        " *The hyperparameters being examined are:*\n",
        "  1. *Criterion - function to measure value of a split (gini index or entropy)*\n",
        "  2. *Splitter - how to choose which feature to split on (best or random)*\n",
        "  3. *Max Depth - the maximum depth of the decision tree (deeper -> more splits > over fitting)*\n",
        "  4. *Min Samples Split - the minimum number of samples an internal node must contain to perform the split*\n",
        "\n",
        "\n",
        "Goal: Train on each possible combination, boxplots of 5 models with best validation set accuracy."
      ]
    },
    {
      "cell_type": "code",
      "metadata": {
        "id": "Kko6Z8hZu_22"
      },
      "source": [
        "def decision_tree_experiment_1(dataset, show_results):\n",
        "    \"\"\"\n",
        "    This function will run experiment 1 for decision trees, looping through all possible hyperparameters\n",
        "    including criterion, splitter, max_depth and min_samples_split. It will return/print the results.\n",
        "    \"\"\"\n",
        "\n",
        "    dt_hyper_params = {'criterion': ['gini', 'entropy'],\n",
        "                  'splitter': ['best', 'random'],\n",
        "                  'max_depth': list(range(5, 15)),\n",
        "                  'min_samples_split': list(range(2, 100, 20))}\n",
        "\n",
        "    # find all permutations of the above dict values\n",
        "    dt_hyper_params_perms = [dict(zip(dt_hyper_params, v)) for v in product(*dt_hyper_params.values())]\n",
        "\n",
        "    # create models based on the permutations\n",
        "    dt_models = [tree.DecisionTreeClassifier(**d) for d in dt_hyper_params_perms]\n",
        "    val_means, train_means = compute_cross_val(dataset, num_folds=5, models=dt_models)\n",
        "\n",
        "    means, stds = cross_val_stats(val_means)\n",
        "    means_train, stds_train = cross_val_stats(train_means)\n",
        "\n",
        "\n",
        "    # choose top 5 models - for validation\n",
        "    all_params = [f'Criterion = {m.criterion}\\nSplitter = {m.splitter}\\nMax Depth = {m.max_depth}\\nMin Samples Split = {m.min_samples_split}' for m in dt_models]\n",
        "    results_df = pd.DataFrame(np.column_stack((means, stds)), columns=['mean', 'std'], index=all_params)\n",
        "    top5 = results_df.nlargest(5, 'mean')\n",
        "\n",
        "    data = top5['mean']\n",
        "    names = top5.index\n",
        "    stds = top5['std']\n",
        "\n",
        "\n",
        "    # choose top 5 models - for training\n",
        "    all_params = [f'Criterion = {m.criterion}\\nSplitter = {m.splitter}\\nMax Depth = {m.max_depth}\\nMin Samples Split = {m.min_samples_split}' for m in dt_models]\n",
        "    results_df = pd.DataFrame(np.column_stack((means_train, stds_train)), columns=['mean', 'std'], index=all_params)\n",
        "    top5_training = results_df.nlargest(5, 'mean')\n",
        "\n",
        "    data_train = top5_training['mean']\n",
        "    names_train = top5_training.index\n",
        "    stds_train = top5_training['std']\n",
        "\n",
        "\n",
        "\n",
        "    if show_results:\n",
        "        print(\"\\nVALIDATION SET RESULTS\")\n",
        "        # print(top5)\n",
        "\n",
        "        fig, ax = plt.subplots(figsize=(10,5))\n",
        "\n",
        "        # set labels\n",
        "        ax.set_xlabel('Models')\n",
        "        ax.set_ylim(0, 1)\n",
        "        ax.yaxis.set_major_formatter(mtick.PercentFormatter(xmax=1, decimals=2))\n",
        "        ax.set_ylabel(\"Accuracy\")\n",
        "        ax.set_ylim(max(0, data.min() - 2 * stds.max()), min(data.max() + 2 * stds.max(), 1))\n",
        "\n",
        "        # plot\n",
        "        plt.suptitle(\"5-fold cross-validation accuracy on 5 best-performing decision treemodels on validation set\")\n",
        "        ax.errorbar(names, data, yerr=stds, capsize=5, fmt='bo', linestyle='')\n",
        "        plt.plot()\n",
        "\n",
        "        print(\"\\nTRAINING SET RESULTS\")\n",
        "        # print(top5_training)\n",
        "\n",
        "        fig, ax = plt.subplots(figsize=(10,5))\n",
        "\n",
        "        # set labels\n",
        "        ax.set_xlabel('Models')\n",
        "        ax.set_ylim(0, 1)\n",
        "        ax.yaxis.set_major_formatter(mtick.PercentFormatter(xmax=1, decimals=2))\n",
        "        ax.set_ylabel(\"Accuracy\")\n",
        "        ax.set_ylim(max(0, data_train.min() - 2 * stds_train.max()), min(data_train.max() + 2 * stds_train.max(), 1))\n",
        "\n",
        "        # plot\n",
        "        plt.suptitle(\"5-fold cross-validation accuracy on 5 best-performing decision treemodels on training set \")\n",
        "        ax.errorbar(names_train, data_train, yerr=stds_train, capsize=5, fmt='bo', linestyle='')\n",
        "        plt.plot()\n",
        "\n",
        "    else:\n",
        "        return [data,names,stds], [data_train, names_train, stds_train]"
      ],
      "execution_count": null,
      "outputs": []
    },
    {
      "cell_type": "markdown",
      "metadata": {
        "id": "P0kjQH8a1D5F"
      },
      "source": [
        "**EXPERIMENT 1** for **Decision Tree algorithm** on the **ADULT dataset**"
      ]
    },
    {
      "cell_type": "code",
      "metadata": {
        "colab": {
          "base_uri": "https://localhost:8080/",
          "height": 859
        },
        "id": "JTofnucL1PBQ",
        "outputId": "baf2a171-9ef6-4be2-e390-3115600a81d5"
      },
      "source": [
        "decision_tree_experiment_1(adult_df, True)"
      ],
      "execution_count": null,
      "outputs": [
        {
          "name": "stdout",
          "output_type": "stream",
          "text": [
            "\n",
            "VALIDATION SET RESULTS\n",
            "\n",
            "TRAINING SET RESULTS\n"
          ]
        },
        {
          "data": {
            "image/png": "[encoded data removed]",
            "text/plain": [
              "<Figure size 720x360 with 1 Axes>"
            ]
          },
          "metadata": {
            "needs_background": "light"
          },
          "output_type": "display_data"
        },
        {
          "data": {
            "image/png": "[encoded data removed]",
            "text/plain": [
              "<Figure size 720x360 with 1 Axes>"
            ]
          },
          "metadata": {
            "needs_background": "light"
          },
          "output_type": "display_data"
        }
      ]
    },
    {
      "cell_type": "markdown",
      "metadata": {
        "id": "ML3oKGbbBqT1"
      },
      "source": [
        "**EXPERIMENT 1** for **Decision Tree algorithm** on the **NEWS dataset**.\n"
      ]
    },
    {
      "cell_type": "code",
      "metadata": {
        "id": "3PpXbAQUBq3n"
      },
      "source": [
        "decision_tree_experiment_1(news_df, True)"
      ],
      "execution_count": null,
      "outputs": []
    },
    {
      "cell_type": "markdown",
      "metadata": {
        "id": "3KLA0KLx4WkD"
      },
      "source": [
        "### The following blocks of code is for **EXPERIMENT 2**: Sample growing subsets of the training/validation data and repeat step 1. We want to understand how the size of a dataset impacts both the training and validation error.\n",
        "\n",
        "We will sample 5 sizes of subsets and repeat the code for KNN and Decision Trees. "
      ]
    },
    {
      "cell_type": "code",
      "metadata": {
        "id": "h9pNOZQkxLdu"
      },
      "source": [
        "def create_subsets(num_subsets, df):\n",
        "    \"\"\"\n",
        "    This function will create and return a list of subsets of a given dataset.\n",
        "    \"\"\"\n",
        "    return [df.sample(frac = ((1.0 / num_subsets) * i)) for i in range(1, num_subsets + 1)]\n",
        "\n",
        "adult_subsets = create_subsets(5, adult_df)\n",
        "news_subsets = create_subsets(5, news_df)"
      ],
      "execution_count": null,
      "outputs": []
    },
    {
      "cell_type": "code",
      "metadata": {
        "id": "P5dLmaH43nlN"
      },
      "source": [
        "def loop_subsets(subsets, algorithm, features_dictionary):\n",
        "    \"\"\"\n",
        "    This funtion will loop through all subsets and run experiment 1 for the algorithm chosen.\n",
        "    \"\"\"\n",
        "    \n",
        "    results_dictionary_validation = {}\n",
        "    results_dictionary_training = {}\n",
        "\n",
        "    for data_subset in subsets:\n",
        "      print(\"Running for size: \", len(data_subset.index))\n",
        "      if (algorithm == \"KNN\"):\n",
        "          results = knn_experiment_1(data_subset, features_dictionary, False, ['normalize','minMax','robust'])\n",
        "      else:\n",
        "          results = decision_tree_experiment_1(data_subset, False)\n",
        "      # Results is a list with 2 entries. \n",
        "        # First is another list for the validation mean data [data, names, stds]\n",
        "        # Second is another list for the training mean data [data, names, stds]\n",
        "\n",
        "      # Find the mean of means:\n",
        "      validation_mean = results[0][0].sum() / len(results[0][0])\n",
        "\n",
        "      training_mean = results[1][0].sum() / len(results[1][0])\n",
        "\n",
        "      results_dictionary_validation[len(data_subset.index)] = validation_mean\n",
        "      results_dictionary_training[len(data_subset.index)] = training_mean\n",
        "\n",
        "      # print(validation_mean)\n",
        "\n",
        "    print(\"Validation results\")\n",
        "    fig, ax = plt.subplots(figsize=(10,5))\n",
        "    ax.set_xlabel('Size of dataset')\n",
        "    ax.set_ylabel(\"Mean accuracy of top 5 models\")\n",
        "    plt.suptitle(\"Mean accuracy of top 5 models vs size of dataset entries - validation\")\n",
        "    plt.plot([key for key in results_dictionary_validation], [results_dictionary_validation[key] for key in results_dictionary_validation])\n",
        "    plt.show()\n",
        "\n",
        "    print(\"Training results\")\n",
        "    fig, ax = plt.subplots(figsize=(10,5))\n",
        "    ax.set_xlabel('Size of dataset')\n",
        "    ax.set_ylabel(\"Mean accuracy of top 5 models\")\n",
        "    plt.suptitle(\"Mean accuracy of top 5 models vs size of dataset entries - training\")\n",
        "    plt.plot([key for key in results_dictionary_training], [results_dictionary_training[key] for key in results_dictionary_training])\n",
        "    plt.show()\n",
        "\n",
        "    print(\"Combined\")\n",
        "    fig, ax = plt.subplots(figsize=(10,5))\n",
        "    ax.set_xlabel('Size of dataset')\n",
        "    ax.set_ylabel(\"Error rate\")\n",
        "    plt.suptitle(\"Comparing mean error rate for the top 5 best models on growing subsets of training and validation data\")\n",
        "    plt.plot([key for key in results_dictionary_training], [1-results_dictionary_training[key] for key in results_dictionary_training], 'r--')\n",
        "    plt.plot([key for key in results_dictionary_validation], [1-results_dictionary_validation[key] for key in results_dictionary_validation])\n",
        "    plt.legend(['Training data', 'Validation data'])\n",
        "    plt.show()\n",
        "  "
      ],
      "execution_count": null,
      "outputs": []
    },
    {
      "cell_type": "markdown",
      "metadata": {
        "id": "7QUoD8pS4piq"
      },
      "source": [
        "**KNN** subset experiments for **ADULT** dataset"
      ]
    },
    {
      "cell_type": "code",
      "metadata": {
        "id": "o752jMpEMzgN"
      },
      "source": [
        "loop_subsets(adult_subsets, \"KNN\", adult_features)"
      ],
      "execution_count": null,
      "outputs": []
    },
    {
      "cell_type": "markdown",
      "metadata": {
        "id": "5E40eZu74s2y"
      },
      "source": [
        "**KNN** subset experiments for **NEWS** dataset"
      ]
    },
    {
      "cell_type": "code",
      "metadata": {
        "id": "137XoxbC4WSv"
      },
      "source": [
        "loop_subsets(news_subsets, \"KNN\", news_features)"
      ],
      "execution_count": null,
      "outputs": []
    },
    {
      "cell_type": "markdown",
      "metadata": {
        "id": "4AhlehQb3tDU"
      },
      "source": [
        "**Decision tree** subset experiments for **ADULT** dataset"
      ]
    },
    {
      "cell_type": "code",
      "metadata": {
        "id": "OvYc8E9p3pre"
      },
      "source": [
        "loop_subsets(adult_subsets, \"decision_tree\", adult_features)\n",
        "  "
      ],
      "execution_count": null,
      "outputs": []
    },
    {
      "cell_type": "markdown",
      "metadata": {
        "id": "TTMV-B015DIt"
      },
      "source": [
        "**Decision tree** subset experiments for **NEWS** dataset"
      ]
    },
    {
      "cell_type": "code",
      "metadata": {
        "id": "_AHBAoPN5EXG"
      },
      "source": [
        "loop_subsets(news_subsets, \"decision_tree\", news_features)"
      ],
      "execution_count": null,
      "outputs": []
    },
    {
      "cell_type": "markdown",
      "metadata": {
        "id": "fotAQsyXEkXk"
      },
      "source": [
        "The following code block is for **Experiment 3:** to test the best performing model on our test data. For the **Adult** dataset"
      ]
    },
    {
      "cell_type": "code",
      "metadata": {
        "id": "X0aFqJ6DFWA-",
        "colab": {
          "base_uri": "https://localhost:8080/"
        },
        "outputId": "80b6c21a-4450-4103-d21b-ecd6984e824f"
      },
      "source": [
        "# use adult.test for testing adult (adult_test)\n",
        "# Best model is KNN, k=12, metric=2, scale=robust\n",
        "model = neighbors.KNeighborsClassifier(n_neighbors=12, p=2)\n",
        "adult_test_robust = curate_dataset(adult_test, \"robust\", adult_features)\n",
        "adult_train_robust = curate_dataset(adult_df, \"robust\", adult_features)\n",
        "\n",
        "\n",
        "test_x, test_y = adult_test_robust.iloc[:, :-1], adult_test_robust.iloc[:, -1]\n",
        "train_x, train_y = adult_train_robust.iloc[:, :-1], adult_train_robust.iloc[:, -1]\n",
        "\n",
        "# Ensure columns match\n",
        "for x in train_x.columns.array:\n",
        "    if (x not in test_x.columns.array):\n",
        "        train_x = train_x.drop(x, axis=1)\n",
        "for x in test_x.columns.array:\n",
        "    if (x not in train_x.columns.array):\n",
        "        test_x = test_x.drop(x, axis=1)\n",
        "\n",
        "        \n",
        "        \n",
        "model.fit(train_x, train_y)\n",
        "val_predict = model.predict(test_x)\n",
        "val_accuracy = (val_predict == test_y).sum() / len(test_y.index)\n",
        "  \n",
        "print(confusion_matrix(test_y, val_predict))\n",
        "print(val_accuracy)"
      ],
      "execution_count": null,
      "outputs": [
        {
          "output_type": "stream",
          "name": "stdout",
          "text": [
            "[[10601   759]\n",
            " [ 1374  2326]]\n",
            "0.8583665338645419\n"
          ]
        }
      ]
    },
    {
      "cell_type": "markdown",
      "metadata": {
        "id": "abJLg_sKdeEx"
      },
      "source": [
        "The following code block is for **Experiment 3:** to test the best performing model on our test data. For the **News** dataset"
      ]
    },
    {
      "cell_type": "code",
      "metadata": {
        "colab": {
          "base_uri": "https://localhost:8080/"
        },
        "id": "Ra5_zIMOdeEy",
        "outputId": "4c7a259e-f1e9-446e-801b-08341c754120"
      },
      "source": [
        "# use news_df_testing_set for news dataset\n",
        "# Best model is decision tree\n",
        "# splitter = best - default\n",
        "# max-depth = 6\n",
        "# gini - default\n",
        "# min sample split = 2\n",
        "\n",
        "\n",
        "model = tree.DecisionTreeClassifier(max_depth=6)\n",
        "\n",
        "test_x, test_y = news_df_testing_set.iloc[:, :-1], news_df_testing_set.iloc[:, -1]\n",
        "train_x, train_y = news_df.iloc[:, :-1], news_df.iloc[:, -1]\n",
        "\n",
        "model.fit(train_x, train_y)\n",
        "val_predict = model.predict(test_x)\n",
        "val_accuracy = (val_predict == test_y).sum() / len(test_y.index)\n",
        "  \n",
        "print(confusion_matrix(test_y, val_predict))\n",
        "print(val_accuracy)"
      ],
      "execution_count": null,
      "outputs": [
        {
          "output_type": "stream",
          "name": "stdout",
          "text": [
            "[[ 844  948]\n",
            " [ 611 1561]]\n",
            "0.606710393541877\n"
          ]
        }
      ]
    },
    {
      "cell_type": "markdown",
      "metadata": {
        "id": "EWE7l68oEkFv"
      },
      "source": [
        "**Above and beyond.** We have investigated different scaling options including normalization, minmax and robust. We have also experimented with imputation techniques and through our experiments we have found that robust scaling gives the best results on our datasets.\n"
      ]
    }
  ]
}