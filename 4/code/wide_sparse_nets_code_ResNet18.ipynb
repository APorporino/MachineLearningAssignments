{
  "cells": [
    {
      "cell_type": "markdown",
      "metadata": {
        "colab_type": "text",
        "id": "view-in-github"
      },
      "source": [
        "<a href=\"https://colab.research.google.com/github/tylerrwatsonn/comp551-mini4/blob/main/wide_sparse_nets_code_ResNet18.ipynb\" target=\"_parent\"><img src=\"https://colab.research.google.com/assets/colab-badge.svg\" alt=\"Open In Colab\"/></a>"
      ]
    },
    {
      "cell_type": "markdown",
      "metadata": {
        "id": "Wue8tFllmbZk"
      },
      "source": [
        "## Preliminaries"
      ]
    },
    {
      "cell_type": "code",
      "execution_count": null,
      "metadata": {
        "colab": {
          "base_uri": "https://localhost:8080/"
        },
        "id": "5shciqwNmfWI",
        "outputId": "24b5c1e9-6569-42f8-9098-80c81f56cadc"
      },
      "outputs": [
        {
          "name": "stdout",
          "output_type": "stream",
          "text": [
            "/content\n"
          ]
        }
      ],
      "source": [
        "import torch\n",
        "import json\n",
        "import os\n",
        "import numpy as np\n",
        "import matplotlib.pyplot as plt\n",
        "parent_dir = os.path.abspath('')\n",
        "print(parent_dir)\n",
        "assert parent_dir == '/content' # if this statement fails, %cd into /content and rerun\n",
        "\n"
      ]
    },
    {
      "cell_type": "code",
      "execution_count": null,
      "metadata": {
        "colab": {
          "base_uri": "https://localhost:8080/"
        },
        "id": "ucNZvy0tcW8o",
        "outputId": "e9bc206f-0c3e-404d-ae87-2d0aa4fa4821"
      },
      "outputs": [
        {
          "name": "stdout",
          "output_type": "stream",
          "text": [
            "Mounted at /content/drive\n"
          ]
        }
      ],
      "source": [
        "from google.colab import drive\n",
        "drive.mount('/content/drive', force_remount=True)"
      ]
    },
    {
      "cell_type": "markdown",
      "metadata": {
        "id": "1qQIrHqzjm4K"
      },
      "source": [
        "#❗❗❗Create comp551-mini4 directory in your google drive\n"
      ]
    },
    {
      "cell_type": "markdown",
      "metadata": {
        "id": "view-in-github"
      },
      "source": [
        "<a href=\"https://colab.research.google.com/github/tylerrwatsonn/comp551-mini4/blob/main/wide_sparse_nets_code.ipynb\" target=\"_parent\"><img src=\"https://colab.research.google.com/assets/colab-badge.svg\" alt=\"Open In Colab\"/></a>"
      ]
    },
    {
      "cell_type": "markdown",
      "metadata": {
        "id": "XcBZ1OND-1N1"
      },
      "source": [
        "Github code repo: https://github.com/google-research/wide-sparse-nets"
      ]
    },
    {
      "cell_type": "code",
      "execution_count": null,
      "metadata": {
        "colab": {
          "base_uri": "https://localhost:8080/"
        },
        "id": "xyL4BYK--zVP",
        "outputId": "fd14a963-ecce-4d8d-8d2e-028eec2fa321"
      },
      "outputs": [
        {
          "name": "stdout",
          "output_type": "stream",
          "text": [
            "Cloning into 'wide-sparse-nets'...\n",
            "remote: Enumerating objects: 28, done.\u001b[K\n",
            "remote: Counting objects: 100% (28/28), done.\u001b[K\n",
            "remote: Compressing objects: 100% (24/24), done.\u001b[K\n",
            "remote: Total 28 (delta 2), reused 28 (delta 2), pack-reused 0\u001b[K\n",
            "Unpacking objects: 100% (28/28), done.\n"
          ]
        }
      ],
      "source": [
        "!git clone https://github.com/google-research/wide-sparse-nets.git"
      ]
    },
    {
      "cell_type": "code",
      "execution_count": null,
      "metadata": {
        "id": "NeaQyvjoANwT"
      },
      "outputs": [],
      "source": [
        "%%capture\n",
        "%cd wide-sparse-nets\n",
        "!pip install -r requirements.txt"
      ]
    },
    {
      "cell_type": "code",
      "execution_count": null,
      "metadata": {
        "colab": {
          "base_uri": "https://localhost:8080/"
        },
        "id": "8tDhXNiXAT1Q",
        "outputId": "33424833-35aa-43a8-bcd7-eae4d34bdede"
      },
      "outputs": [
        {
          "name": "stdout",
          "output_type": "stream",
          "text": [
            "/content/wide-sparse-nets/ResNet18\n",
            "usage: main.py [-h] [--seed SEED] [--half] [--workers WORKERS]\n",
            "               [--optimizer OPTIMIZER] [--momentum M] [--wd WD]\n",
            "               [--scheduler {multistep,cosine}] [--lr LR]\n",
            "               [--num_epochs NUM_EPOCHS] [--dataset {cifar10,cifar100,svhn}]\n",
            "               [--data_dir DATA_DIR] [--mbs MBS] [--model_name MODEL_NAME]\n",
            "               [--base_width BASE_WIDTH] [--width WIDTH] [--io_only]\n",
            "\n",
            "Training a ResNet18 on CIFAR or SVHN.\n",
            "\n",
            "optional arguments:\n",
            "  -h, --help            show this help message and exit\n",
            "  --seed SEED           random seed\n",
            "  --half                set model parameters to half precision (excluding BN\n",
            "                        layers)\n",
            "  --workers WORKERS     number of workers\n",
            "  --optimizer OPTIMIZER\n",
            "                        optimizer\n",
            "  --momentum M          momentum\n",
            "  --wd WD               weight decay (default: 5e-4)\n",
            "  --scheduler {multistep,cosine}\n",
            "                        lr scheduler\n",
            "  --lr LR               initial learning rate\n",
            "  --num_epochs NUM_EPOCHS\n",
            "                        number of epochs to run\n",
            "  --dataset {cifar10,cifar100,svhn}\n",
            "                        dataset\n",
            "  --data_dir DATA_DIR   name of the data directory\n",
            "  --mbs MBS             mini-batch size\n",
            "  --model_name MODEL_NAME\n",
            "                        name of the model architecture\n",
            "  --base_width BASE_WIDTH\n",
            "                        baseline model width (number of output channels in\n",
            "                        layer conv1) (default: 64)\n",
            "  --width WIDTH         current model width (default: 64)\n",
            "  --io_only             if True, sparsify conv layers along IO dims only\n"
          ]
        }
      ],
      "source": [
        "%mv third_party/ ResNet18/ # this moves third_party to ResNet18 folder\n",
        "%cd ResNet18\n",
        "!python main.py --help"
      ]
    },
    {
      "cell_type": "code",
      "execution_count": null,
      "metadata": {
        "id": "klkckqowBaLW"
      },
      "outputs": [],
      "source": [
        "def train(model_name, base_width, widening_factors, num_epochs, mbs='128', lr='0.1', momentum='0.9'):\n",
        "  stats = {}\n",
        "  base_width_str = str(base_width)\n",
        "  num_epochs_str = str(num_epochs)\n",
        "  for factor in widening_factors:\n",
        "    width = int(base_width * factor)\n",
        "    width_str = str(width)\n",
        "    print(f'Starting training for base_width: {base_width} and widening_factor: {factor} ({width})...')\n",
        "    !python -m main --seed 888 --dataset cifar100 --base_width {base_width_str} --width {width_str} --num_epochs {num_epochs_str} --model_name {model_name} --mbs {mbs} --lr {lr} --momentum {momentum}\n",
        "    print('Finished training')\n",
        "    run_stats = torch.load(f'runs/cifar100_{model_name}_{base_width}_{width}_mbs_{mbs}_lr_{lr}_seed_888/stats.pt')\n",
        "    stats[str(factor)] = run_stats\n",
        "    # save backups after finishing a model\n",
        "    with open(f'/content/drive/MyDrive/comp551-mini4/cifar100_{model_name}_base_width_{base_width}_num_epochs_{num_epochs}_mbs_{mbs}_lr_{lr}_mom_{momentum}_factor_{factor}.json', 'w') as f:\n",
        "      json.dump(run_stats, f, indent=4)\n",
        "  with open(f'/content/drive/MyDrive/comp551-mini4/cifar100_{model_name}_base_width_{base_width}_num_epochs_{num_epochs}_mbs_{mbs}_lr_{lr}_mom_{momentum}.json', 'w') as f:\n",
        "    json.dump(stats, f, indent=4)\n"
      ]
    },
    {
      "cell_type": "code",
      "execution_count": null,
      "metadata": {
        "id": "UIzmyqP0kiy-"
      },
      "outputs": [],
      "source": [
        "WIDENING_FACTORS = [1, 1.5, 2.2, 3.3, 5]\n",
        "\n",
        "base_width = 8\n",
        "num_epochs = 20\n",
        "train('senet18', base_width, WIDENING_FACTORS, num_epochs)"
      ]
    },
    {
      "cell_type": "code",
      "execution_count": null,
      "metadata": {
        "id": "blz6k5beA0bo"
      },
      "outputs": [],
      "source": [
        "WIDENING_FACTORS = [1, 1.5, 2.2, 3.3, 5]\n",
        "\n",
        "base_width = 8\n",
        "num_epochs = 20\n",
        "train('resnet18', base_width, WIDENING_FACTORS, num_epochs, mbs='32', lr='0.01', momentum='0.8')"
      ]
    },
    {
      "cell_type": "code",
      "execution_count": null,
      "metadata": {
        "id": "IGWO4jETjqIK"
      },
      "outputs": [],
      "source": [
        "# Rename loaded file based on where results from previous run are saved (see output of code chunk above)\n",
        "stats = torch.load('runs/cifar100_resnet18_4_8_mbs_128_lr_0.1_seed_888/stats.pt')\n",
        "print(json.dumps(stats, indent=4))\n",
        "with open('/content/drive/MyDrive/resnet/cifar100_resnet18_4_8_mbs_128_lr_0.1_seed_888.json', 'w') as f:\n",
        "    json.dump(stats, f, indent=4)"
      ]
    },
    {
      "cell_type": "code",
      "execution_count": null,
      "metadata": {
        "id": "JyC6VOB3uP2h"
      },
      "outputs": [],
      "source": [
        "def get_train_results_last_epoch(train_results_json, widening_factors, num_epochs):\n",
        "  test_accs = []\n",
        "  train_accs = []\n",
        "  for factor in widening_factors:\n",
        "    test_accs.append(train_results_json.get(str(factor), {}).get('acc1', {}).get(str(num_epochs - 1), {}).get('test'))\n",
        "    train_accs.append(train_results_json.get(str(factor), {}).get('acc1', {}).get(str(num_epochs - 1), {}).get('train'))\n",
        "  return test_accs, train_accs\n",
        "\n",
        "def get_train_results_max_epoch(train_results_json, widening_factors, num_epochs):\n",
        "  test_accs = []\n",
        "  train_accs = []\n",
        "  for factor in widening_factors:\n",
        "    acc1 = train_results_json.get(str(factor), {}).get('acc1', {})\n",
        "    max_test_acc = 0\n",
        "    for epoch in acc1:\n",
        "      if acc1[str(epoch)]['test'] > max_test_acc:\n",
        "        max_test_acc = acc1[str(epoch)]['test']\n",
        "    max_train_acc = 0\n",
        "    for epoch in acc1:\n",
        "      if acc1[str(epoch)]['train'] > max_train_acc:\n",
        "        max_train_acc = acc1[str(epoch)]['train']\n",
        "    test_accs.append(max_test_acc)\n",
        "    train_accs.append(max_train_acc)\n",
        "  return test_accs, train_accs\n",
        "\n",
        "def plot_results(widening_factors, accs_ls, labels, xlabel, ylabel):\n",
        "  for i, accs in enumerate(accs_ls):\n",
        "    plt.plot(widening_factors, accs, label = f'{labels[i]}')\n",
        "  plt.xlabel(xlabel)\n",
        "  plt.ylabel(ylabel)\n",
        "  plt.legend()"
      ]
    },
    {
      "cell_type": "code",
      "execution_count": null,
      "metadata": {
        "colab": {
          "base_uri": "https://localhost:8080/",
          "height": 259
        },
        "id": "W3dRyxX6ckJ2",
        "outputId": "ec9b6c52-fda7-4c24-a989-f6a30457e32b"
      },
      "outputs": [
        {
          "data": {
            "image/png": "[encoded data removed]",
            "text/plain": [
              "<Figure size 432x288 with 1 Axes>"
            ]
          },
          "metadata": {
            "needs_background": "light"
          },
          "output_type": "display_data"
        }
      ],
      "source": [
        "import numpy as np\n",
        "import matplotlib.pyplot as plt\n",
        "widening_factors = [1, 1.5, 2.2, 3.3, 5]\n",
        "\n",
        "with open('/content/drive/MyDrive/comp551-mini4/cifar100_resnet18_base_width_8.json', 'r') as f:\n",
        "  base_width_8_json = json.load(f)\n",
        "\n",
        "test_accs_8, train_accs_8 = get_train_results_max_epoch(base_width_8_json, WIDENING_FACTORS, 20)\n",
        "# plot_results(WIDENING_FACTORS, [test_accs_8], [8])\n",
        "\n",
        "with open('/content/drive/MyDrive/comp551-mini4/cifar100_resnet18_base_width_8_num_epochs_20_mbs_32_lr_0.01_mom_0.8.json', 'r') as f:\n",
        "  base_width_8_json = json.load(f)\n",
        "\n",
        "test_accs_8_senet, train_accs_8_senet = get_train_results_max_epoch(base_width_8_json, WIDENING_FACTORS, 20)\n",
        "plot_results(WIDENING_FACTORS, [test_accs_8, test_accs_8_senet], ['ResNet18', 'SENet18'], 'Widening Factor', 'Test Accuracy (%)')\n",
        "plot_results(WIDENING_FACTORS, [train_accs_8, train_accs_8_senet], ['ResNet18', 'SENet18'], 'Widening Factor', 'Train Accuracy (%)')\n",
        "\n",
        "labels = ['mbs=128,\\n lr=0.1,\\n mom=0.9\\n (default)', 'mbs=32,\\n lr=0.01,\\n mom=0.8']\n",
        "# plt.subplot(1,2,1)\n",
        "# for i, accs in enumerate([train_accs_8, train_accs_8_senet]):\n",
        "#   plt.plot(widening_factors, accs, label = f'{labels[i]}')\n",
        "# plt.title('Train Accuracy vs Widening Factor')\n",
        "\n",
        "# plt.xlabel('Widening Factor')\n",
        "# plt.ylabel('Train Accuracy (%)')\n",
        "# plt.legend()\n",
        "\n",
        "plt.subplot(1,2,2)\n",
        "for i, accs in enumerate([test_accs_8, test_accs_8_senet]):\n",
        "  plt.plot(widening_factors, accs, label = f'{labels[i]}')\n",
        "plt.title('Test Accuracy vs Widening Factor')\n",
        "plt.xlabel('Widening Factor')\n",
        "plt.ylabel('Test Accuracy (%)')\n",
        "plt.legend()\n",
        "\n",
        "plt.tight_layout(pad=3)\n",
        "plt.show()"
      ]
    }
  ],
  "metadata": {
    "accelerator": "GPU",
    "colab": {
      "collapsed_sections": [],
      "include_colab_link": true,
      "name": "wide_sparse_nets_code-ResNet18.ipynb",
      "provenance": []
    },
    "kernelspec": {
      "display_name": "Python 3",
      "name": "python3"
    },
    "language_info": {
      "name": "python"
    }
  },
  "nbformat": 4,
  "nbformat_minor": 0
}
