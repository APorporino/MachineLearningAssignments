{
  "nbformat": 4,
  "nbformat_minor": 0,
  "metadata": {
    "colab": {
      "name": "MLP-data-extraction.ipynb",
      "provenance": [],
      "collapsed_sections": []
    },
    "kernelspec": {
      "name": "python3",
      "display_name": "Python 3"
    },
    "language_info": {
      "name": "python"
    }
  },
  "cells": [
    {
      "cell_type": "code",
      "execution_count": 215,
      "metadata": {
        "id": "8oY_ZSQ9iqTx"
      },
      "outputs": [],
      "source": [
        "import torch\n",
        "import json\n",
        "import os\n",
        "import matplotlib.pyplot as plt\n"
      ]
    },
    {
      "cell_type": "markdown",
      "source": [
        "# Data Extraction\n",
        "\n",
        "The goal of this notebook is to extract the data from our experiments and produce graphs to put into our report."
      ],
      "metadata": {
        "id": "XL0byCebAxvv"
      }
    },
    {
      "cell_type": "code",
      "source": [
        "base_path = \"/content/drive/MyDrive/McGill/COMP551/comp551-mini4/\"\n",
        "\n",
        "path_MLP_lin = base_path + \"MLP/runs_Lin\"\n",
        "path_MLP_relu = base_path + \"MLP/runs_ReLU\"\n",
        "path_MLP_fashion = base_path + \"MLP/runs_Fashion_ReLU\"\n",
        "\n",
        "path_resnet_cifar10 = base_path + \"ResNet18/runs_cifar10\"\n",
        "path_resnet_cifar100 = base_path + \"ResNet18/runs_cifar100\"\n",
        "path_resnet_svhn = base_path + \"ResNet18/runs_svhn\"\n",
        "path_resnet_mnist = base_path + \"ResNet18/runs_mnist\"\n",
        "\n",
        "print(path_MLP_lin)"
      ],
      "metadata": {
        "colab": {
          "base_uri": "https://localhost:8080/"
        },
        "id": "ro_nGSSrUndt",
        "outputId": "3a028c21-99d6-4c30-af39-33b99d3be944"
      },
      "execution_count": 220,
      "outputs": [
        {
          "output_type": "stream",
          "name": "stdout",
          "text": [
            "/content/drive/MyDrive/McGill/COMP551/comp551-mini4/MLP/runs_Lin\n"
          ]
        }
      ]
    },
    {
      "cell_type": "markdown",
      "source": [
        "## Helper Functions"
      ],
      "metadata": {
        "id": "oXJm1oTnBCNj"
      }
    },
    {
      "cell_type": "code",
      "source": [
        "def extract_base_width(file_name):\n",
        "  \"\"\"\n",
        "  This function will extract the base and width from a file name.\n",
        "\n",
        "  It assumes that the second and third number present (in isolation between \n",
        "  underscore) in the specific model data path represent the base width of \n",
        "  the model and the new width.\n",
        "  \"\"\"\n",
        "  data = [int(dig) for dig in file_name.split(\"_\") if dig.isdigit()]\n",
        "  return data[0], data[1]"
      ],
      "metadata": {
        "id": "22_KObfD7e5e"
      },
      "execution_count": 217,
      "outputs": []
    },
    {
      "cell_type": "code",
      "source": [
        "def stats_to_json(folder_path, key_value, last_epoch, extension, use_last=False):\n",
        "  \"\"\"\n",
        "  This method will extract all data from a folder into a specified json format.\n",
        "\n",
        "  It assumes that the second and third number present in the specific model data\n",
        "  path represent the base width of the model and the new width.\n",
        "\n",
        "  Those 2 values can be used to calculate the connectivity of this model.\n",
        "  \"\"\"\n",
        "  return_json = {}\n",
        "  for file in os.listdir(folder_path):\n",
        "    with open(folder_path + \"/\" + file + \"/stats\" + extension, \"rb\") as fp:\n",
        "      data = torch.load(fp)\n",
        "      try:\n",
        "        acc = data[key_value][last_epoch]['test']\n",
        "      except KeyError:\n",
        "        if use_last:\n",
        "          acc = data[key_value][list(data[key_value])[-1]][\"test\"]\n",
        "        else:\n",
        "          print(\"File: \" + file + \" experiment did not finish training\")\n",
        "          continue\n",
        "      base, width = extract_base_width(file)\n",
        "\n",
        "      if base in return_json.keys():\n",
        "        return_json[base][width] = acc\n",
        "      else:\n",
        "        return_json[base] = {}\n",
        "        return_json[base][width] = acc\n",
        "  \n",
        "  return return_json\n",
        "\n"
      ],
      "metadata": {
        "id": "Yd3tBS9Wp9wZ"
      },
      "execution_count": 301,
      "outputs": []
    },
    {
      "cell_type": "code",
      "source": [
        ""
      ],
      "metadata": {
        "id": "ssn5Fpl7Yml0"
      },
      "execution_count": null,
      "outputs": []
    },
    {
      "cell_type": "code",
      "source": [
        "def pretty_print(dict_json):\n",
        "  print(json.dumps(dict_json, indent=4))"
      ],
      "metadata": {
        "id": "lfrftvYAWQcz"
      },
      "execution_count": 238,
      "outputs": []
    },
    {
      "cell_type": "markdown",
      "source": [
        "## MLP Data Extraction\n",
        "\n"
      ],
      "metadata": {
        "id": "NIkuK5s0i94o"
      }
    },
    {
      "cell_type": "markdown",
      "source": [
        "### Original MNIST"
      ],
      "metadata": {
        "id": "EXRR0D3-lqU5"
      }
    },
    {
      "cell_type": "code",
      "source": [
        "lin_data = stats_to_json(path_MLP_lin, \"acc\", 299, \".pth\")"
      ],
      "metadata": {
        "id": "phjq6WasjkCf"
      },
      "execution_count": 250,
      "outputs": []
    },
    {
      "cell_type": "code",
      "source": [
        "relu_data = stats_to_json(path_MLP_relu, \"acc\", 299, \".pth\")"
      ],
      "metadata": {
        "id": "9MHAvqST-gRb"
      },
      "execution_count": 251,
      "outputs": []
    },
    {
      "cell_type": "code",
      "source": [
        "ax1_xaxis = [int(x/5) for x in list(lin_data[5].keys())]\n",
        "ax1_yaxis = list(lin_data[5].values())\n",
        "\n",
        "\n",
        "dense_data_lin = lin_data.copy()\n",
        "dense_data_lin.pop(5)\n",
        "ax1_xaxis_dense = [int(x/5) for x in dense_data_lin.keys()]\n",
        "ax1_yaxis_dense = [list(x.values())[0] for x in list(dense_data_lin.values())]\n",
        "\n",
        "\n",
        "ax2_xaxis = [float(x/5) for x in list(relu_data[5].keys())]\n",
        "ax2_yaxis = list(relu_data[5].values())\n",
        "\n",
        "\n",
        "dense_data_relu = relu_data.copy()\n",
        "dense_data_relu.pop(5)\n",
        "ax2_xaxis_dense = [float(x/5) for x in dense_data_relu.keys()]\n",
        "ax2_yaxis_dense = [list(x.values())[0] for x in list(dense_data_relu.values())]\n"
      ],
      "metadata": {
        "id": "SvJku-n5IWzv"
      },
      "execution_count": 332,
      "outputs": []
    },
    {
      "cell_type": "code",
      "source": [
        "left  = 0.125  # the left side of the subplots of the figure\n",
        "right = 0.9    # the right side of the subplots of the figure\n",
        "bottom = 0.1   # the bottom of the subplots of the figure\n",
        "top = .8      # the top of the subplots of the figure\n",
        "wspace = .5   # the amount of width reserved for blank space between subplots\n",
        "hspace = 2.5   # the amount of height reserved for white space between subplots\n",
        "\n"
      ],
      "metadata": {
        "id": "U9E2zgUbE7-h"
      },
      "execution_count": 229,
      "outputs": []
    },
    {
      "cell_type": "code",
      "source": [
        "fig, (ax1, ax2) = plt.subplots(1, 2, figsize=(10,3))\n",
        "fig.subplots_adjust(left, bottom, right, top, wspace, hspace)\n",
        "\n",
        "ax1.scatter(ax1_xaxis, ax1_yaxis)\n",
        "ax1.scatter(ax1_xaxis_dense, ax1_yaxis_dense, color='red', marker='^')\n",
        "ax1.set_title(\"Linear Activation\")\n",
        "ax1.set(xlabel='Widening Factor (%)', ylabel='Test Accuracy (%)')\n",
        "\n",
        "ax2.scatter(ax2_xaxis, ax2_yaxis)\n",
        "ax2.scatter(ax2_xaxis_dense, ax2_yaxis_dense, color='red', marker='^')\n",
        "ax2.set_title(\"ReLU Activation\")\n",
        "ax2.set(xlabel='Widening Factor (%)', ylabel='Test Accuracy (%)')\n",
        "\n",
        "plt.suptitle('MLP on MNIST Dataset - 300 epochs')\n",
        "plt.show()"
      ],
      "metadata": {
        "colab": {
          "base_uri": "https://localhost:8080/",
          "height": 252
        },
        "id": "irqs9kdjDdXF",
        "outputId": "1e4c0b52-1aa7-40f3-e434-a6ae3766ba10"
      },
      "execution_count": 394,
      "outputs": [
        {
          "output_type": "display_data",
          "data": {
            "image/png": "[encoded data removed]",
            "text/plain": [
              "<Figure size 720x216 with 2 Axes>"
            ]
          },
          "metadata": {
            "needs_background": "light"
          }
        }
      ]
    },
    {
      "cell_type": "markdown",
      "source": [
        "### Fashion MNIST"
      ],
      "metadata": {
        "id": "6ZAqdSRYloE3"
      }
    },
    {
      "cell_type": "code",
      "source": [
        "fashion_data = stats_to_json(path_MLP_fashion, \"acc\", 49, \".pth\")"
      ],
      "metadata": {
        "id": "VcQZZhYP-zsW"
      },
      "execution_count": 252,
      "outputs": []
    },
    {
      "cell_type": "code",
      "source": [
        "xaxis = [int(x/5) for x in list(fashion_data[5].keys())]\n",
        "yaxis = list(fashion_data[5].values())\n",
        "\n",
        "\n",
        "dense_data_fashion = fashion_data.copy()\n",
        "dense_data_fashion.pop(5)\n",
        "xaxis_dense = [int(x/5) for x in dense_data_fashion.keys()]\n",
        "yaxis_dense = [list(x.values())[0] for x in list(dense_data_fashion.values())]"
      ],
      "metadata": {
        "id": "Z-I6dJhaMw5b"
      },
      "execution_count": 232,
      "outputs": []
    },
    {
      "cell_type": "code",
      "source": [
        "f = plt.figure()\n",
        "f.set_figwidth(4)\n",
        "f.set_figheight(4)\n",
        "\n",
        "\n",
        "plt.scatter(xaxis, yaxis)\n",
        "plt.scatter(xaxis_dense, yaxis_dense, color='red', marker='^')\n",
        "plt.title(\"MLP on fashion MNIST - 50 epochs\")\n",
        "plt.xlabel('Widening Factor (%)')\n",
        "plt.ylabel('Test Accuracy (%)')\n",
        "\n",
        "plt.show()"
      ],
      "metadata": {
        "colab": {
          "base_uri": "https://localhost:8080/",
          "height": 295
        },
        "id": "zYjG0UpOMc-v",
        "outputId": "440db322-4b91-4f3b-8688-aa8e2d2356ab"
      },
      "execution_count": 233,
      "outputs": [
        {
          "output_type": "display_data",
          "data": {
            "image/png": "[encoded data removed]",
            "text/plain": [
              "<Figure size 288x288 with 1 Axes>"
            ]
          },
          "metadata": {
            "needs_background": "light"
          }
        }
      ]
    },
    {
      "cell_type": "markdown",
      "source": [
        "## ResNet Extraction"
      ],
      "metadata": {
        "id": "sh3iZWfMBKGP"
      }
    },
    {
      "cell_type": "markdown",
      "source": [
        "### Results Reproduction\n"
      ],
      "metadata": {
        "id": "QPrjShszUSLx"
      }
    },
    {
      "cell_type": "code",
      "source": [
        "cifar10_data = stats_to_json(path_resnet_cifar10, \"acc1\", 49, \".pt\")\n",
        "cifar100_data = stats_to_json(path_resnet_cifar100, \"acc1\", 49, \".pt\")\n",
        "svhn_data = stats_to_json(path_resnet_svhn, \"acc1\", 49, \".pt\")"
      ],
      "metadata": {
        "colab": {
          "base_uri": "https://localhost:8080/"
        },
        "id": "KHZ2vTXKOqhr",
        "outputId": "389e54fe-1bef-4be1-967d-dbfe64781d69"
      },
      "execution_count": 314,
      "outputs": [
        {
          "output_type": "stream",
          "name": "stdout",
          "text": [
            "File: cifar100_resnet18_12_120_mbs_128_lr_0.1_seed_888 experiment did not finish training\n",
            "File: svhn_resnet18_8_40_mbs_128_lr_0.1_seed_888 experiment did not finish training\n",
            "File: svhn_resnet18_12_90_mbs_128_lr_0.1_seed_888 experiment did not finish training\n"
          ]
        }
      ]
    },
    {
      "cell_type": "code",
      "source": [
        "# Add Aaron's Cifar100 data\n",
        "# It is stored in JSON format in GitRepo and contains:\n",
        "\n",
        "aaron_cifar100_data_12 = {\n",
        "    12: 41.82,\n",
        "    18: 46.23,\n",
        "    26: 45.44\n",
        "}\n",
        "cifar100_data[12] = {**cifar100_data[12], **aaron_cifar10_data_12}\n",
        "\n"
      ],
      "metadata": {
        "id": "2UeEGHwSZ69T"
      },
      "execution_count": 315,
      "outputs": []
    },
    {
      "cell_type": "code",
      "source": [
        "pretty_print(cifar10_data)"
      ],
      "metadata": {
        "colab": {
          "base_uri": "https://localhost:8080/"
        },
        "id": "RYo-cv86XGHE",
        "outputId": "86ad1b21-0bda-4837-9cb4-e87ce1429d21"
      },
      "execution_count": 316,
      "outputs": [
        {
          "output_type": "stream",
          "name": "stdout",
          "text": [
            "{\n",
            "    \"8\": {\n",
            "        \"12\": 80.02,\n",
            "        \"26\": 78.82,\n",
            "        \"17\": 76.17,\n",
            "        \"60\": 81.15,\n",
            "        \"40\": 79.43,\n",
            "        \"8\": 76.9\n",
            "    },\n",
            "    \"12\": {\n",
            "        \"90\": 81.87,\n",
            "        \"39\": 83.17,\n",
            "        \"12\": 79.12,\n",
            "        \"26\": 81.11,\n",
            "        \"18\": 74.92,\n",
            "        \"60\": 79.19\n",
            "    }\n",
            "}\n"
          ]
        }
      ]
    },
    {
      "cell_type": "code",
      "source": [
        "pretty_print(cifar100_data)"
      ],
      "metadata": {
        "colab": {
          "base_uri": "https://localhost:8080/"
        },
        "id": "spOsdui8ZeV0",
        "outputId": "f622a21d-594b-44cc-df52-c5811ac9bae8"
      },
      "execution_count": 317,
      "outputs": [
        {
          "output_type": "stream",
          "name": "stdout",
          "text": [
            "{\n",
            "    \"8\": {\n",
            "        \"8\": 41.53,\n",
            "        \"17\": 45.06,\n",
            "        \"26\": 44.32,\n",
            "        \"12\": 46.91,\n",
            "        \"60\": 47.57,\n",
            "        \"40\": 48.24,\n",
            "        \"80\": 46.67\n",
            "    },\n",
            "    \"12\": {\n",
            "        \"90\": 44.58,\n",
            "        \"60\": 49.79,\n",
            "        \"39\": 51.58,\n",
            "        \"12\": 41.82,\n",
            "        \"18\": 46.23,\n",
            "        \"26\": 45.44\n",
            "    }\n",
            "}\n"
          ]
        }
      ]
    },
    {
      "cell_type": "code",
      "source": [
        "pretty_print(svhn_data)"
      ],
      "metadata": {
        "colab": {
          "base_uri": "https://localhost:8080/"
        },
        "id": "F_FiZNceZfL2",
        "outputId": "afcccca2-49e4-4dc5-a17f-f7703def1709"
      },
      "execution_count": 318,
      "outputs": [
        {
          "output_type": "stream",
          "name": "stdout",
          "text": [
            "{\n",
            "    \"8\": {\n",
            "        \"8\": 86.35525507068223,\n",
            "        \"12\": 88.2721266133989,\n",
            "        \"26\": 88.64090350338046,\n",
            "        \"17\": 89.40918869084204\n",
            "    },\n",
            "    \"12\": {\n",
            "        \"12\": 90.28503380454825,\n",
            "        \"39\": 90.69606637984019,\n",
            "        \"60\": 91.24539028887523,\n",
            "        \"18\": 90.90350338045482,\n",
            "        \"26\": 90.34649661954518\n",
            "    }\n",
            "}\n"
          ]
        }
      ]
    },
    {
      "cell_type": "code",
      "source": [
        "def graph(ax, dict_json):\n",
        "\n",
        "  lines = {1: ['red', '*'], 2: [\"green\", \"o\"]}\n",
        "  index = 1\n",
        "  for width in dict_json.keys():\n",
        "    xaxis = [float(x/width) for x in list(dict_json[width].keys())]\n",
        "    yaxis = list(dict_json[width].values())\n",
        "\n",
        "    ax.scatter(xaxis, yaxis, color=lines[index][0], marker=lines[index][1])\n",
        "    index += 1\n",
        "  ax.legend(dict_json.keys(), loc=4)\n",
        "  return ax"
      ],
      "metadata": {
        "id": "K76OOOb7dM38"
      },
      "execution_count": 391,
      "outputs": []
    },
    {
      "cell_type": "code",
      "source": [
        "fig, (ax1, ax2, ax3) = plt.subplots(1, 3, figsize=(12,3))\n",
        "fig.subplots_adjust(left, bottom, right, top, wspace, hspace)\n",
        "\n",
        "xaxis=\"Widening Factor (%)\"\n",
        "yaxis=\"Test Accuracy (%)\"\n",
        "\n",
        "ax1 = graph(ax1, cifar10_data)\n",
        "ax1.set_title(\"CIFAR10\")\n",
        "ax1.set(xlabel=xaxis, ylabel=yaxis)\n",
        "\n",
        "ax2 = graph(ax2, cifar100_data)\n",
        "ax2.set_title(\"CIFAR100\")\n",
        "ax2.set(xlabel=xaxis, ylabel=yaxis)\n",
        "\n",
        "ax3 = graph(ax3, svhn_data)\n",
        "ax3.set_title(\"SVHN\")\n",
        "ax3.set(xlabel=xaxis, ylabel=yaxis)\n",
        "\n",
        "plt.suptitle('ResNet18 Result Reproduction - 50 epochs')\n",
        "plt.show()"
      ],
      "metadata": {
        "colab": {
          "base_uri": "https://localhost:8080/",
          "height": 252
        },
        "id": "063ZB-G7igjV",
        "outputId": "15d7ec68-d194-41b2-8e68-3765406aa77e"
      },
      "execution_count": 395,
      "outputs": [
        {
          "output_type": "display_data",
          "data": {
            "image/png": "[encoded data removed]",
            "text/plain": [
              "<Figure size 864x216 with 3 Axes>"
            ]
          },
          "metadata": {
            "needs_background": "light"
          }
        }
      ]
    },
    {
      "cell_type": "markdown",
      "source": [
        "### Hyperparameter Sensitivity"
      ],
      "metadata": {
        "id": "POiHbdJRUcbo"
      }
    },
    {
      "cell_type": "markdown",
      "source": [
        "### New Dataset"
      ],
      "metadata": {
        "id": "Vx0EwvAwUamR"
      }
    },
    {
      "cell_type": "code",
      "source": [
        "mnist_data = stats_to_json(path_resnet_mnist, \"acc1\", 49, \".pt\", True)"
      ],
      "metadata": {
        "id": "xMvYSXMxcUYK"
      },
      "execution_count": 339,
      "outputs": []
    },
    {
      "cell_type": "code",
      "source": [
        "pretty_print(mnist_data)"
      ],
      "metadata": {
        "colab": {
          "base_uri": "https://localhost:8080/"
        },
        "id": "99EnumkrcYxr",
        "outputId": "fb3bbf20-524f-41ef-f436-8b7f8a36e92a"
      },
      "execution_count": 340,
      "outputs": [
        {
          "output_type": "stream",
          "name": "stdout",
          "text": [
            "{\n",
            "    \"12\": {\n",
            "        \"12\": 98.69,\n",
            "        \"18\": 98.38,\n",
            "        \"26\": 99.22\n",
            "    }\n",
            "}\n"
          ]
        }
      ]
    },
    {
      "cell_type": "code",
      "source": [
        "fig, (ax1) = plt.subplots(1, 1, figsize=(3,3))\n",
        "\n",
        "xaxis=\"Widening Factor (%)\"\n",
        "yaxis=\"Test Accuracy (%)\"\n",
        "\n",
        "ax1 = graph(ax1, mnist_data)\n",
        "ax1.set_title(\"ResNet18 on MNIST - 50 epochs\")\n",
        "ax1.set(xlabel=xaxis, ylabel=yaxis)"
      ],
      "metadata": {
        "colab": {
          "base_uri": "https://localhost:8080/",
          "height": 258
        },
        "id": "aWVVFR1gfqTP",
        "outputId": "664ca711-d20a-4a83-9006-1e36fe85f380"
      },
      "execution_count": 393,
      "outputs": [
        {
          "output_type": "execute_result",
          "data": {
            "text/plain": [
              "[Text(0, 0.5, 'Test Accuracy (%)'), Text(0.5, 0, 'Widening Factor (%)')]"
            ]
          },
          "metadata": {},
          "execution_count": 393
        },
        {
          "output_type": "display_data",
          "data": {
            "image/png": "[encoded data removed]",
            "text/plain": [
              "<Figure size 216x216 with 1 Axes>"
            ]
          },
          "metadata": {
            "needs_background": "light"
          }
        }
      ]
    }
  ]
}